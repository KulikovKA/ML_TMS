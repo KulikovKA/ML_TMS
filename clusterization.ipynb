{
 "cells": [
  {
   "cell_type": "markdown",
   "id": "5e967f25",
   "metadata": {},
   "source": [
    "**Цели**\n",
    "- Kmeans\n",
    "- DBScan\n",
    "- AgglomerativeClustering\n",
    "- дропнуть целевую\n",
    "- найти для kmean кол-во кластеров\n",
    "- найти опт параметры для dbscan \n",
    "- просмотреть что внутри\n"
   ]
  },
  {
   "cell_type": "code",
   "execution_count": 72,
   "id": "8dc24852",
   "metadata": {},
   "outputs": [],
   "source": [
    "import pandas as pd\n",
    "import numpy as np\n",
    "from sklearn.cluster import KMeans\n",
    "from sklearn.cluster import DBSCAN\n",
    "from sklearn.cluster import AgglomerativeClustering\n",
    "from sklearn.metrics import silhouette_score\n",
    "from sklearn.preprocessing import StandardScaler\n",
    "import matplotlib.pyplot as plt\n",
    "import seaborn as sns\n",
    "from node2vec import Node2Vec\n",
    "import networkx as nx\n",
    "from sklearn.metrics import silhouette_score\n",
    "from sklearn.neighbors import NearestNeighbors\n",
    "import networkx as nx\n",
    "from sklearn.neighbors import kneighbors_graph\n",
    "from kneed import KneeLocator\n",
    "import multiprocessing"
   ]
  },
  {
   "cell_type": "code",
   "execution_count": 73,
   "id": "4f0acf3c",
   "metadata": {},
   "outputs": [
    {
     "data": {
      "text/html": [
       "<div>\n",
       "<style scoped>\n",
       "    .dataframe tbody tr th:only-of-type {\n",
       "        vertical-align: middle;\n",
       "    }\n",
       "\n",
       "    .dataframe tbody tr th {\n",
       "        vertical-align: top;\n",
       "    }\n",
       "\n",
       "    .dataframe thead th {\n",
       "        text-align: right;\n",
       "    }\n",
       "</style>\n",
       "<table border=\"1\" class=\"dataframe\">\n",
       "  <thead>\n",
       "    <tr style=\"text-align: right;\">\n",
       "      <th></th>\n",
       "      <th>PassengerId</th>\n",
       "      <th>Survived</th>\n",
       "      <th>Pclass</th>\n",
       "      <th>Name</th>\n",
       "      <th>Sex</th>\n",
       "      <th>Age</th>\n",
       "      <th>SibSp</th>\n",
       "      <th>Parch</th>\n",
       "      <th>Ticket</th>\n",
       "      <th>Fare</th>\n",
       "      <th>Cabin</th>\n",
       "      <th>Embarked</th>\n",
       "    </tr>\n",
       "  </thead>\n",
       "  <tbody>\n",
       "    <tr>\n",
       "      <th>0</th>\n",
       "      <td>1</td>\n",
       "      <td>0</td>\n",
       "      <td>3</td>\n",
       "      <td>Braund, Mr. Owen Harris</td>\n",
       "      <td>male</td>\n",
       "      <td>22.0</td>\n",
       "      <td>1</td>\n",
       "      <td>0</td>\n",
       "      <td>A/5 21171</td>\n",
       "      <td>7.2500</td>\n",
       "      <td>NaN</td>\n",
       "      <td>S</td>\n",
       "    </tr>\n",
       "    <tr>\n",
       "      <th>1</th>\n",
       "      <td>2</td>\n",
       "      <td>1</td>\n",
       "      <td>1</td>\n",
       "      <td>Cumings, Mrs. John Bradley (Florence Briggs Th...</td>\n",
       "      <td>female</td>\n",
       "      <td>38.0</td>\n",
       "      <td>1</td>\n",
       "      <td>0</td>\n",
       "      <td>PC 17599</td>\n",
       "      <td>71.2833</td>\n",
       "      <td>C85</td>\n",
       "      <td>C</td>\n",
       "    </tr>\n",
       "    <tr>\n",
       "      <th>2</th>\n",
       "      <td>3</td>\n",
       "      <td>1</td>\n",
       "      <td>3</td>\n",
       "      <td>Heikkinen, Miss. Laina</td>\n",
       "      <td>female</td>\n",
       "      <td>26.0</td>\n",
       "      <td>0</td>\n",
       "      <td>0</td>\n",
       "      <td>STON/O2. 3101282</td>\n",
       "      <td>7.9250</td>\n",
       "      <td>NaN</td>\n",
       "      <td>S</td>\n",
       "    </tr>\n",
       "    <tr>\n",
       "      <th>3</th>\n",
       "      <td>4</td>\n",
       "      <td>1</td>\n",
       "      <td>1</td>\n",
       "      <td>Futrelle, Mrs. Jacques Heath (Lily May Peel)</td>\n",
       "      <td>female</td>\n",
       "      <td>35.0</td>\n",
       "      <td>1</td>\n",
       "      <td>0</td>\n",
       "      <td>113803</td>\n",
       "      <td>53.1000</td>\n",
       "      <td>C123</td>\n",
       "      <td>S</td>\n",
       "    </tr>\n",
       "    <tr>\n",
       "      <th>4</th>\n",
       "      <td>5</td>\n",
       "      <td>0</td>\n",
       "      <td>3</td>\n",
       "      <td>Allen, Mr. William Henry</td>\n",
       "      <td>male</td>\n",
       "      <td>35.0</td>\n",
       "      <td>0</td>\n",
       "      <td>0</td>\n",
       "      <td>373450</td>\n",
       "      <td>8.0500</td>\n",
       "      <td>NaN</td>\n",
       "      <td>S</td>\n",
       "    </tr>\n",
       "  </tbody>\n",
       "</table>\n",
       "</div>"
      ],
      "text/plain": [
       "   PassengerId  Survived  Pclass  \\\n",
       "0            1         0       3   \n",
       "1            2         1       1   \n",
       "2            3         1       3   \n",
       "3            4         1       1   \n",
       "4            5         0       3   \n",
       "\n",
       "                                                Name     Sex   Age  SibSp  \\\n",
       "0                            Braund, Mr. Owen Harris    male  22.0      1   \n",
       "1  Cumings, Mrs. John Bradley (Florence Briggs Th...  female  38.0      1   \n",
       "2                             Heikkinen, Miss. Laina  female  26.0      0   \n",
       "3       Futrelle, Mrs. Jacques Heath (Lily May Peel)  female  35.0      1   \n",
       "4                           Allen, Mr. William Henry    male  35.0      0   \n",
       "\n",
       "   Parch            Ticket     Fare Cabin Embarked  \n",
       "0      0         A/5 21171   7.2500   NaN        S  \n",
       "1      0          PC 17599  71.2833   C85        C  \n",
       "2      0  STON/O2. 3101282   7.9250   NaN        S  \n",
       "3      0            113803  53.1000  C123        S  \n",
       "4      0            373450   8.0500   NaN        S  "
      ]
     },
     "execution_count": 73,
     "metadata": {},
     "output_type": "execute_result"
    }
   ],
   "source": [
    "df=pd.read_csv('.\\\\data_tms.csv')\n",
    "df.head()"
   ]
  },
  {
   "cell_type": "code",
   "execution_count": 74,
   "id": "0f19b50c",
   "metadata": {},
   "outputs": [
    {
     "name": "stdout",
     "output_type": "stream",
     "text": [
      "(714, 9)\n"
     ]
    }
   ],
   "source": [
    "df['Sex']=df['Sex'].map({'female':0,'male':1})\n",
    "df['SibSp+Parch']=df['SibSp']+df['Parch']\n",
    "df=pd.get_dummies(df,columns=['Embarked'],drop_first=True)\n",
    "df_x=df.drop(columns=['Survived','Name','Ticket','Ticket','Cabin','PassengerId'],axis=1)\n",
    "df_x=df_x.dropna()\n",
    "print(df_x.shape)\n",
    "scaler=StandardScaler()\n",
    "df_scaled=scaler.fit_transform(df_x)\n"
   ]
  },
  {
   "cell_type": "code",
   "execution_count": null,
   "id": "a025107d",
   "metadata": {},
   "outputs": [
    {
     "name": "stderr",
     "output_type": "stream",
     "text": [
      "c:\\Users\\kiril\\anaconda3\\envs\\MLops_main\\Lib\\site-packages\\sklearn\\cluster\\_kmeans.py:870: FutureWarning: The default value of `n_init` will change from 10 to 'auto' in 1.4. Set the value of `n_init` explicitly to suppress the warning\n",
      "  warnings.warn(\n",
      "c:\\Users\\kiril\\anaconda3\\envs\\MLops_main\\Lib\\site-packages\\sklearn\\cluster\\_kmeans.py:1382: UserWarning: KMeans is known to have a memory leak on Windows with MKL, when there are less chunks than available threads. You can avoid it by setting the environment variable OMP_NUM_THREADS=3.\n",
      "  warnings.warn(\n",
      "c:\\Users\\kiril\\anaconda3\\envs\\MLops_main\\Lib\\site-packages\\sklearn\\cluster\\_kmeans.py:870: FutureWarning: The default value of `n_init` will change from 10 to 'auto' in 1.4. Set the value of `n_init` explicitly to suppress the warning\n",
      "  warnings.warn(\n",
      "c:\\Users\\kiril\\anaconda3\\envs\\MLops_main\\Lib\\site-packages\\sklearn\\cluster\\_kmeans.py:1382: UserWarning: KMeans is known to have a memory leak on Windows with MKL, when there are less chunks than available threads. You can avoid it by setting the environment variable OMP_NUM_THREADS=3.\n",
      "  warnings.warn(\n",
      "c:\\Users\\kiril\\anaconda3\\envs\\MLops_main\\Lib\\site-packages\\sklearn\\cluster\\_kmeans.py:870: FutureWarning: The default value of `n_init` will change from 10 to 'auto' in 1.4. Set the value of `n_init` explicitly to suppress the warning\n",
      "  warnings.warn(\n",
      "c:\\Users\\kiril\\anaconda3\\envs\\MLops_main\\Lib\\site-packages\\sklearn\\cluster\\_kmeans.py:1382: UserWarning: KMeans is known to have a memory leak on Windows with MKL, when there are less chunks than available threads. You can avoid it by setting the environment variable OMP_NUM_THREADS=3.\n",
      "  warnings.warn(\n",
      "c:\\Users\\kiril\\anaconda3\\envs\\MLops_main\\Lib\\site-packages\\sklearn\\cluster\\_kmeans.py:870: FutureWarning: The default value of `n_init` will change from 10 to 'auto' in 1.4. Set the value of `n_init` explicitly to suppress the warning\n",
      "  warnings.warn(\n",
      "c:\\Users\\kiril\\anaconda3\\envs\\MLops_main\\Lib\\site-packages\\sklearn\\cluster\\_kmeans.py:1382: UserWarning: KMeans is known to have a memory leak on Windows with MKL, when there are less chunks than available threads. You can avoid it by setting the environment variable OMP_NUM_THREADS=3.\n",
      "  warnings.warn(\n"
     ]
    },
    {
     "name": "stdout",
     "output_type": "stream",
     "text": [
      "Оптимальное количество кластеров: 4\n"
     ]
    },
    {
     "name": "stderr",
     "output_type": "stream",
     "text": [
      "c:\\Users\\kiril\\anaconda3\\envs\\MLops_main\\Lib\\site-packages\\sklearn\\cluster\\_kmeans.py:870: FutureWarning: The default value of `n_init` will change from 10 to 'auto' in 1.4. Set the value of `n_init` explicitly to suppress the warning\n",
      "  warnings.warn(\n",
      "c:\\Users\\kiril\\anaconda3\\envs\\MLops_main\\Lib\\site-packages\\sklearn\\cluster\\_kmeans.py:1382: UserWarning: KMeans is known to have a memory leak on Windows with MKL, when there are less chunks than available threads. You can avoid it by setting the environment variable OMP_NUM_THREADS=3.\n",
      "  warnings.warn(\n",
      "c:\\Users\\kiril\\anaconda3\\envs\\MLops_main\\Lib\\site-packages\\sklearn\\cluster\\_kmeans.py:870: FutureWarning: The default value of `n_init` will change from 10 to 'auto' in 1.4. Set the value of `n_init` explicitly to suppress the warning\n",
      "  warnings.warn(\n",
      "c:\\Users\\kiril\\anaconda3\\envs\\MLops_main\\Lib\\site-packages\\sklearn\\cluster\\_kmeans.py:1382: UserWarning: KMeans is known to have a memory leak on Windows with MKL, when there are less chunks than available threads. You can avoid it by setting the environment variable OMP_NUM_THREADS=3.\n",
      "  warnings.warn(\n",
      "c:\\Users\\kiril\\anaconda3\\envs\\MLops_main\\Lib\\site-packages\\sklearn\\cluster\\_kmeans.py:870: FutureWarning: The default value of `n_init` will change from 10 to 'auto' in 1.4. Set the value of `n_init` explicitly to suppress the warning\n",
      "  warnings.warn(\n",
      "c:\\Users\\kiril\\anaconda3\\envs\\MLops_main\\Lib\\site-packages\\sklearn\\cluster\\_kmeans.py:1382: UserWarning: KMeans is known to have a memory leak on Windows with MKL, when there are less chunks than available threads. You can avoid it by setting the environment variable OMP_NUM_THREADS=3.\n",
      "  warnings.warn(\n",
      "c:\\Users\\kiril\\anaconda3\\envs\\MLops_main\\Lib\\site-packages\\sklearn\\cluster\\_kmeans.py:870: FutureWarning: The default value of `n_init` will change from 10 to 'auto' in 1.4. Set the value of `n_init` explicitly to suppress the warning\n",
      "  warnings.warn(\n",
      "c:\\Users\\kiril\\anaconda3\\envs\\MLops_main\\Lib\\site-packages\\sklearn\\cluster\\_kmeans.py:1382: UserWarning: KMeans is known to have a memory leak on Windows with MKL, when there are less chunks than available threads. You can avoid it by setting the environment variable OMP_NUM_THREADS=3.\n",
      "  warnings.warn(\n",
      "c:\\Users\\kiril\\anaconda3\\envs\\MLops_main\\Lib\\site-packages\\sklearn\\cluster\\_kmeans.py:870: FutureWarning: The default value of `n_init` will change from 10 to 'auto' in 1.4. Set the value of `n_init` explicitly to suppress the warning\n",
      "  warnings.warn(\n",
      "c:\\Users\\kiril\\anaconda3\\envs\\MLops_main\\Lib\\site-packages\\sklearn\\cluster\\_kmeans.py:1382: UserWarning: KMeans is known to have a memory leak on Windows with MKL, when there are less chunks than available threads. You can avoid it by setting the environment variable OMP_NUM_THREADS=3.\n",
      "  warnings.warn(\n"
     ]
    }
   ],
   "source": [
    "K_range = range(1, 10)\n",
    "inertias = []\n",
    "\n",
    "for k in K_range:\n",
    "    kmeans = KMeans(n_clusters=k, random_state=42)\n",
    "    kmeans.fit(df_scaled)\n",
    "    inertias.append(kmeans.inertia_)\n",
    "\n",
    "kl = KneeLocator(\n",
    "    x=list(K_range),\n",
    "    y=inertias,\n",
    "    curve=\"convex\",\n",
    "    direction=\"decreasing\"\n",
    ")\n",
    "\n",
    "optimal_k = kl.elbow\n",
    "print(f\"Оптимальное количество кластеров: {optimal_k}\")"
   ]
  },
  {
   "cell_type": "code",
   "execution_count": 76,
   "id": "0f7c9eba",
   "metadata": {},
   "outputs": [
    {
     "name": "stderr",
     "output_type": "stream",
     "text": [
      "c:\\Users\\kiril\\anaconda3\\envs\\MLops_main\\Lib\\site-packages\\sklearn\\cluster\\_kmeans.py:870: FutureWarning: The default value of `n_init` will change from 10 to 'auto' in 1.4. Set the value of `n_init` explicitly to suppress the warning\n",
      "  warnings.warn(\n",
      "c:\\Users\\kiril\\anaconda3\\envs\\MLops_main\\Lib\\site-packages\\sklearn\\cluster\\_kmeans.py:1382: UserWarning: KMeans is known to have a memory leak on Windows with MKL, when there are less chunks than available threads. You can avoid it by setting the environment variable OMP_NUM_THREADS=3.\n",
      "  warnings.warn(\n"
     ]
    },
    {
     "name": "stdout",
     "output_type": "stream",
     "text": [
      "score : 0.2978057774526976\n",
      "                  Pclass       Sex        Age     SibSp     Parch       Fare  \\\n",
      "Cluster_kmeans                                                                 \n",
      "0               2.785714  0.571429  28.089286  0.750000  0.392857  18.265775   \n",
      "1               2.682990  0.760309  29.090000  0.206186  0.085052  12.718459   \n",
      "2               1.072222  0.550000  39.383333  0.383333  0.255556  76.629468   \n",
      "3               2.415254  0.364407  17.311441  1.661017  1.847458  46.884532   \n",
      "\n",
      "                SibSp+Parch  Embarked_Q  Embarked_S  \n",
      "Cluster_kmeans                                       \n",
      "0                  1.142857         1.0    0.000000  \n",
      "1                  0.291237         0.0    0.909794  \n",
      "2                  0.638889         0.0    0.533333  \n",
      "3                  3.508475         0.0    0.889831  \n",
      "[1 2 1 2 1 2 3 3 2 3 2 1 3 1 1 0 1 1 1 0 2 3 3 3 2 1 2 2 1 3 1 1 1 3 0 1 3\n",
      " 1 2 1 2 1 1 3 3 1 2 2 3 1 1 3 1 1 3 1 1 1 1 3 1 1 1 2 1 3 3 3 1 1 1 2 3 1\n",
      " 2 2 1 1 1 2 1 1 1 1 1 2 1 1 1 1 1 0 1 2 3 1 2 1 2 1 1 1 1 1 1 1 1 1 3 2 1\n",
      " 2 1 1 0 1 3 1 3 1 1 1 2 1 1 2 0 1 1 1 1 1 3 3 3 1 2 0 3 1 2 1 2 1 1 3 3 3\n",
      " 2 0 1 1 1 1 3 2 2 1 1 1 1 1 1 1 1 1 0 2 1 1 1 1 2 1 1 2 1 1 1 1 2 1 1 1 1\n",
      " 2 1 1 3 1 1 3 1 1 1 1 1 0 1 3 2 1 3 2 1 3 3 2 2 2 3 2 2 1 3 1 2 2 1 1 2 2\n",
      " 1 0 3 0 1 1 1 1 1 1 1 0 2 2 2 1 1 1 3 2 1 3 2 2 2 2 3 3 1 1 1 1 1 2 2 1 1\n",
      " 0 3 2 1 1 3 2 2 2 1 2 2 1 2 3 3 1 1 1 1 1 3 1 1 1 1 1 2 1 3 2 1 1 1 2 2 2\n",
      " 1 1 2 3 1 2 1 1 2 3 1 2 1 3 1 2 3 1 1 2 3 1 1 1 1 1 1 1 1 1 1 1 1 3 1 0 1\n",
      " 3 3 1 3 0 1 3 1 1 1 1 2 1 1 2 3 3 3 3 1 2 1 1 1 3 1 2 3 2 3 2 2 1 2 1 2 1\n",
      " 2 1 1 2 3 1 3 2 1 1 1 1 1 3 1 1 2 2 2 1 3 1 2 2 1 2 3 1 1 0 1 2 2 3 1 1 0\n",
      " 2 2 1 2 1 1 1 2 1 2 0 1 1 3 3 1 1 3 2 2 2 2 3 3 1 2 2 1 1 3 2 1 1 1 2 2 2\n",
      " 1 1 1 1 1 3 1 1 2 2 1 1 1 2 1 3 2 1 2 3 1 2 1 1 2 1 1 1 1 2 3 1 2 1 1 2 3\n",
      " 2 3 1 3 1 1 3 1 1 2 1 1 1 2 0 2 1 2 1 2 3 1 1 1 3 1 2 3 3 2 1 2 1 1 1 0 1\n",
      " 0 1 2 2 1 2 1 1 1 1 1 3 2 1 1 1 1 1 3 2 2 1 3 2 3 3 1 1 2 2 1 1 2 1 1 2 1\n",
      " 2 2 1 0 1 1 1 2 2 2 2 1 1 1 2 1 1 1 1 1 1 2 1 3 1 1 2 1 1 1 1 3 2 2 3 1 1\n",
      " 2 1 1 2 0 3 1 1 1 3 3 1 1 1 2 1 1 3 1 2 0 1 1 1 1 3 1 1 2 1 2 2 1 1 1 0 3\n",
      " 2 1 1 1 2 1 1 3 1 3 3 1 1 1 2 1 1 2 1 1 1 3 1 1 2 1 3 2 1 2 1 3 3 2 1 3 1\n",
      " 1 2 1 1 1 1 2 1 1 1 1 1 3 1 3 2 1 1 2 2 3 1 1 2 1 1 2 2 3 1 2 1 1 2 1 1 1\n",
      " 2 1 1 1 1 1 0 1 2 2 0]\n"
     ]
    },
    {
     "name": "stderr",
     "output_type": "stream",
     "text": [
      "c:\\Users\\kiril\\anaconda3\\envs\\MLops_main\\Lib\\site-packages\\sklearn\\cluster\\_kmeans.py:870: FutureWarning: The default value of `n_init` will change from 10 to 'auto' in 1.4. Set the value of `n_init` explicitly to suppress the warning\n",
      "  warnings.warn(\n",
      "c:\\Users\\kiril\\anaconda3\\envs\\MLops_main\\Lib\\site-packages\\sklearn\\cluster\\_kmeans.py:1382: UserWarning: KMeans is known to have a memory leak on Windows with MKL, when there are less chunks than available threads. You can avoid it by setting the environment variable OMP_NUM_THREADS=3.\n",
      "  warnings.warn(\n"
     ]
    }
   ],
   "source": [
    "kmeans = KMeans(n_clusters=4, random_state=42)\n",
    "kmeans.fit_predict(df_scaled)\n",
    "labels_kmeans=kmeans.fit_predict(df_scaled)\n",
    "score_kmean=silhouette_score(df_scaled,labels_kmeans)\n",
    "df_x['Cluster_kmeans']=labels_kmeans\n",
    "\n",
    "print(f\"score : {score_kmean}\")\n",
    "print(df_x.groupby('Cluster_kmeans').mean())\n",
    "print(labels_kmeans)"
   ]
  },
  {
   "cell_type": "code",
   "execution_count": 77,
   "id": "d4f50c95",
   "metadata": {},
   "outputs": [
    {
     "data": {
      "image/png": "[encoded data removed]",
      "text/plain": [
       "<Figure size 640x480 with 1 Axes>"
      ]
     },
     "metadata": {},
     "output_type": "display_data"
    }
   ],
   "source": [
    "k = 10 \n",
    "neighbors = NearestNeighbors(n_neighbors=k)\n",
    "neighbors_fit = neighbors.fit(df_scaled)\n",
    "distances, indices = neighbors_fit.kneighbors(df_scaled)\n",
    "\n",
    "distances = np.sort(distances[:, k - 1], axis=0)\n",
    "\n",
    "plt.plot(distances)\n",
    "plt.title('k-distance plot')\n",
    "plt.ylabel('Distance to k-th neighbor')\n",
    "plt.xlabel('Points sorted by distance')\n",
    "plt.show()"
   ]
  },
  {
   "cell_type": "code",
   "execution_count": 78,
   "id": "e530227a",
   "metadata": {},
   "outputs": [
    {
     "name": "stdout",
     "output_type": "stream",
     "text": [
      "               Pclass       Sex        Age     SibSp     Parch        Fare  \\\n",
      "Cluster_dbs                                                                  \n",
      "-1           2.000000  0.500000  29.247143  1.392857  2.535714  160.146875   \n",
      " 0           2.330869  0.670980  29.330555  0.504621  0.356747   25.436066   \n",
      " 1           1.772358  0.528455  31.186341  0.414634  0.341463   50.821481   \n",
      " 2           2.818182  0.500000  31.022727  0.136364  0.090909   12.537123   \n",
      "\n",
      "             SibSp+Parch  Embarked_Q  Embarked_S  Cluster_kmeans  \n",
      "Cluster_dbs                                                       \n",
      "-1              3.928571    0.214286    0.464286        2.142857  \n",
      " 0              0.861368    0.000000    1.000000        1.517560  \n",
      " 1              0.756098    0.000000    0.000000        1.796748  \n",
      " 2              0.227273    1.000000    0.000000        0.000000  \n",
      "score : 0.2621996110413257\n"
     ]
    }
   ],
   "source": [
    "dbscan=DBSCAN(eps=2.3,min_samples=10)\n",
    "labels_dbs=dbscan.fit_predict(df_scaled)\n",
    "df_x['Cluster_dbs']=labels_dbs\n",
    "print(df_x.groupby('Cluster_dbs').mean())\n",
    "score_dbs=silhouette_score(df_scaled,labels_dbs)\n",
    "print(f\"score : {score_dbs}\")"
   ]
  },
  {
   "cell_type": "code",
   "execution_count": 79,
   "id": "bd2e80c3",
   "metadata": {},
   "outputs": [
    {
     "name": "stdout",
     "output_type": "stream",
     "text": [
      "score : 0.47782730892679764\n",
      "                Pclass       Sex        Age     SibSp     Parch        Fare  \\\n",
      "Cluster_tree                                                                  \n",
      "0             2.688889  0.422222  18.533333  2.888889  2.422222   63.227778   \n",
      "1             2.186520  0.652038  30.530831  0.336991  0.293103   31.157059   \n",
      "2             2.785714  0.571429  28.089286  0.750000  0.392857   18.265775   \n",
      "3             1.000000  0.666667  35.333333  0.000000  0.333333  512.329200   \n",
      "\n",
      "              SibSp+Parch  Embarked_Q  Embarked_S  Cluster_kmeans  Cluster_dbs  \n",
      "Cluster_tree                                                                    \n",
      "0                5.311111         0.0    0.955556         3.00000    -0.311111  \n",
      "1                0.630094         0.0    0.800940         1.50627     0.184953  \n",
      "2                1.142857         1.0    0.000000         0.00000     1.357143  \n",
      "3                0.333333         0.0    0.000000         2.00000    -1.000000  \n"
     ]
    }
   ],
   "source": [
    "tree=AgglomerativeClustering(n_clusters=4,linkage='complete', metric='manhattan')\n",
    "labels_tree=tree.fit_predict(df_scaled)\n",
    "df_x['Cluster_tree']=labels_tree\n",
    "score_tree=silhouette_score(df_scaled,labels_tree)\n",
    "print(f\"score : {score_tree}\")\n",
    "print(df_x.groupby('Cluster_tree').mean())"
   ]
  },
  {
   "cell_type": "code",
   "execution_count": 80,
   "id": "d1d3c7d5",
   "metadata": {},
   "outputs": [
    {
     "name": "stdout",
     "output_type": "stream",
     "text": [
      "workers : 8\n"
     ]
    }
   ],
   "source": [
    "print(f\"workers : {multiprocessing.cpu_count()}\")"
   ]
  },
  {
   "cell_type": "code",
   "execution_count": 81,
   "id": "7e55aa0f",
   "metadata": {},
   "outputs": [
    {
     "data": {
      "application/vnd.jupyter.widget-view+json": {
       "model_id": "99e7a3c74fe8436b95607f180bf96960",
       "version_major": 2,
       "version_minor": 0
      },
      "text/plain": [
       "Computing transition probabilities:   0%|          | 0/714 [00:00<?, ?it/s]"
      ]
     },
     "metadata": {},
     "output_type": "display_data"
    },
    {
     "name": "stdout",
     "output_type": "stream",
     "text": [
      "Silhouette Score: 0.7182735800743103\n"
     ]
    },
    {
     "name": "stderr",
     "output_type": "stream",
     "text": [
      "c:\\Users\\kiril\\anaconda3\\envs\\MLops_main\\Lib\\site-packages\\sklearn\\cluster\\_kmeans.py:870: FutureWarning: The default value of `n_init` will change from 10 to 'auto' in 1.4. Set the value of `n_init` explicitly to suppress the warning\n",
      "  warnings.warn(\n",
      "c:\\Users\\kiril\\anaconda3\\envs\\MLops_main\\Lib\\site-packages\\sklearn\\cluster\\_kmeans.py:1382: UserWarning: KMeans is known to have a memory leak on Windows with MKL, when there are less chunks than available threads. You can avoid it by setting the environment variable OMP_NUM_THREADS=3.\n",
      "  warnings.warn(\n"
     ]
    }
   ],
   "source": [
    "adjacency = kneighbors_graph(df_scaled, n_neighbors=5, mode='connectivity', include_self=False)\n",
    "G = nx.from_scipy_sparse_array(adjacency)\n",
    "model_n2v_kmeans = Node2Vec(G, dimensions=2, walk_length=30, num_walks=40, workers=8,p=0.25,q=0.25)\n",
    "model_kmeans = model_n2v_kmeans.fit(window=10, min_count=5, batch_words=100)\n",
    "\n",
    "embeddings_n2v_kmeans = model_kmeans.wv.vectors\n",
    "\n",
    "kmeans = KMeans(n_clusters=4, random_state=42)\n",
    "labels_n2v = kmeans.fit_predict(embeddings_n2v_kmeans)\n",
    "\n",
    "score_n2v = silhouette_score(embeddings_n2v_kmeans, labels_n2v)\n",
    "print(f'Silhouette Score: {score_n2v}')"
   ]
  },
  {
   "cell_type": "code",
   "execution_count": 82,
   "id": "783eced5",
   "metadata": {},
   "outputs": [
    {
     "data": {
      "application/vnd.jupyter.widget-view+json": {
       "model_id": "59fd514f04e8424aa7ac18215212a1d0",
       "version_major": 2,
       "version_minor": 0
      },
      "text/plain": [
       "Computing transition probabilities:   0%|          | 0/714 [00:00<?, ?it/s]"
      ]
     },
     "metadata": {},
     "output_type": "display_data"
    },
    {
     "name": "stdout",
     "output_type": "stream",
     "text": [
      "Silhouette Score: 0.0016042094212025404\n"
     ]
    }
   ],
   "source": [
    "model_n2v_dbs = Node2Vec(G, dimensions=9, walk_length=30, num_walks=40, workers=8,p=0.25,q=1)\n",
    "model_dbs = model_n2v_dbs.fit(window=10, min_count=5, batch_words=4)\n",
    "\n",
    "embeddings_n2v_dbs = model_dbs.wv.vectors\n",
    "\n",
    "dbscan = DBSCAN(eps=0.5, min_samples=5)\n",
    "labels_dbs = dbscan.fit_predict(embeddings_n2v_kmeans)\n",
    "\n",
    "score_dbs = silhouette_score(embeddings_n2v_dbs, labels_dbs)\n",
    "print(f'Silhouette Score: {score_dbs}')"
   ]
  },
  {
   "cell_type": "code",
   "execution_count": 83,
   "id": "41de837e",
   "metadata": {},
   "outputs": [
    {
     "data": {
      "application/vnd.jupyter.widget-view+json": {
       "model_id": "7220cd9f500b486e844c4410dfa753b8",
       "version_major": 2,
       "version_minor": 0
      },
      "text/plain": [
       "Computing transition probabilities:   0%|          | 0/714 [00:00<?, ?it/s]"
      ]
     },
     "metadata": {},
     "output_type": "display_data"
    },
    {
     "name": "stdout",
     "output_type": "stream",
     "text": [
      "Silhouette Score: 0.1410849392414093\n"
     ]
    }
   ],
   "source": [
    "\n",
    "model_n2v_tree = Node2Vec(G, dimensions=9, walk_length=30, num_walks=40, workers=8,p=0.25,q=1)\n",
    "model_tree = model_n2v_tree.fit(window=10, min_count=5, batch_words=4)\n",
    "\n",
    "embeddings_n2v_tree = model_tree.wv.vectors\n",
    "\n",
    "agg_clustering = AgglomerativeClustering(n_clusters=4, linkage='average', metric='euclidean')\n",
    "labels_agg = agg_clustering.fit_predict(embeddings_n2v_tree)\n",
    "\n",
    "score_agg = silhouette_score(embeddings_n2v_tree, labels_agg)\n",
    "print(f'Silhouette Score: {score_agg}')"
   ]
  },
  {
   "cell_type": "markdown",
   "id": "a3df1084",
   "metadata": {},
   "source": [
    "| Метод кластеризации | Silhouette Score | \n",
    "|----------------------|------------------|\n",
    "|  KMeans               |  0.2978057774526976               |\n",
    "|DBSCAN                 |          0.2621996110413257       |\n",
    "|AgglomerativeClustering|      0.47782730892679764           |                                \n",
    "|KMeans + node2vec                    |     0.18441028892993927           |                          \n",
    "|DBSCAN + node2vec                   |        -0.21087706089019775         |                          \n",
    "|AgglomerativeClustering + node2vec               |    0.15145334601402283            |                          \n",
    "                          \n",
    "\n",
    "\n",
    "\n",
    "\n",
    "- **AgglomerativeClustering (на признаках)** — **лучший** (0.478).\n",
    "- **KMeans** — **второй** (0.298).\n",
    "- **DBSCAN** — **худший** (0.262 и -0.211).\n",
    "- **node2Vec** **ухудшил** Silhouette Score для всех методов.\n",
    "- **AgglomerativeClustering** — **лучший алгоритм**.\n",
    "- **node2Vec** — **не помог** на этих данных.             "
   ]
  },
  {
   "cell_type": "code",
   "execution_count": null,
   "id": "6c8b292a",
   "metadata": {},
   "outputs": [],
   "source": []
  }
 ],
 "metadata": {
  "kernelspec": {
   "display_name": "MLops_main",
   "language": "python",
   "name": "python3"
  },
  "language_info": {
   "codemirror_mode": {
    "name": "ipython",
    "version": 3
   },
   "file_extension": ".py",
   "mimetype": "text/x-python",
   "name": "python",
   "nbconvert_exporter": "python",
   "pygments_lexer": "ipython3",
   "version": "3.11.13"
  }
 },
 "nbformat": 4,
 "nbformat_minor": 5
}
